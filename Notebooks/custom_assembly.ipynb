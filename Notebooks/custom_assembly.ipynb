{
 "cells": [
  {
   "cell_type": "code",
   "execution_count": 1,
   "id": "b99e7d58",
   "metadata": {},
   "outputs": [],
   "source": [
    "import ctypes\n",
    "import ctypes.util\n",
    "import importlib\n",
    "import math\n",
    "import os\n",
    "import pathlib\n",
    "import time\n",
    "\n",
    "import cffi\n",
    "import dolfinx\n",
    "import numba\n",
    "import numba.core.typing.cffi_utils as cffi_support\n",
    "import numpy as np\n",
    "import petsc4py.lib\n",
    "#import pytest\n",
    "import ufl\n",
    "#from dolfinx.jit import dolfinx_pc\n",
    "import dolfinx.jit\n",
    "#from dolfinx.jit import dolfinx_pc\n",
    "from mpi4py import MPI\n",
    "from petsc4py import PETSc\n",
    "from petsc4py import get_config as PETSc_get_config\n",
    "from ufl import dx, inner\n"
   ]
  },
  {
   "cell_type": "code",
   "execution_count": 2,
   "id": "e526fc4b",
   "metadata": {},
   "outputs": [
    {
     "name": "stdout",
     "output_type": "stream",
     "text": [
      "['DOLFINX_DEFAULT_JIT_PARAMETERS', 'MPI', 'Optional', 'Path', '__all__', '__builtins__', '__cached__', '__doc__', '__file__', '__loader__', '__name__', '__package__', '__spec__', '_load_parameters', 'ffcx', 'ffcx_jit', 'functools', 'get_parameters', 'json', 'mpi_jit_decorator', 'os', 'ufl']\n"
     ]
    }
   ],
   "source": [
    "print(dir(dolfinx.jit))"
   ]
  },
  {
   "cell_type": "code",
   "execution_count": 3,
   "id": "6f234179",
   "metadata": {},
   "outputs": [
    {
     "ename": "TypeError",
     "evalue": "unsupported operand type(s) for *: 'Form' and 'Measure'",
     "output_type": "error",
     "traceback": [
      "\u001b[0;31m---------------------------------------------------------------------------\u001b[0m",
      "\u001b[0;31mTypeError\u001b[0m                                 Traceback (most recent call last)",
      "Cell \u001b[0;32mIn [3], line 9\u001b[0m\n\u001b[1;32m      6\u001b[0m u2, v2 \u001b[38;5;241m=\u001b[39m ufl\u001b[38;5;241m.\u001b[39mTrialFunction(V2), ufl\u001b[38;5;241m.\u001b[39mTestFunction(V2)\n\u001b[1;32m      8\u001b[0m \u001b[38;5;66;03m#in an ideal world can just do this\u001b[39;00m\n\u001b[0;32m----> 9\u001b[0m a \u001b[38;5;241m=\u001b[39m \u001b[43mu1\u001b[49m\u001b[38;5;241;43m*\u001b[39;49m\u001b[43mv1\u001b[49m\u001b[38;5;241;43m*\u001b[39;49m\u001b[43mu2\u001b[49m\u001b[38;5;241;43m*\u001b[39;49m\u001b[43mv2\u001b[49m\u001b[38;5;241;43m*\u001b[39;49m\u001b[43mufl\u001b[49m\u001b[38;5;241;43m.\u001b[39;49m\u001b[43mdx\u001b[49m\u001b[43m(\u001b[49m\u001b[43mdomain\u001b[49m\u001b[38;5;241;43m=\u001b[39;49m\u001b[43mmesh1\u001b[49m\u001b[43m)\u001b[49m\u001b[38;5;241;43m*\u001b[39;49m\u001b[43mufl\u001b[49m\u001b[38;5;241;43m.\u001b[39;49m\u001b[43mdx\u001b[49m\u001b[43m(\u001b[49m\u001b[43mdomain\u001b[49m\u001b[38;5;241;43m=\u001b[39;49m\u001b[43mmesh2\u001b[49m\u001b[43m)\u001b[49m\n",
      "\u001b[0;31mTypeError\u001b[0m: unsupported operand type(s) for *: 'Form' and 'Measure'"
     ]
    }
   ],
   "source": [
    "\n",
    "mesh1 = dolfinx.mesh.create_unit_square(MPI.COMM_WORLD, 10, 10,dolfinx.mesh.CellType.triangle )\n",
    "mesh2 = dolfinx.mesh.create_unit_square(MPI.COMM_WORLD, 10, 10,dolfinx.mesh.CellType.triangle )\n",
    "V1 = dolfinx.fem.FunctionSpace(mesh1, (\"CG\", 1))\n",
    "u1, v1 = ufl.TrialFunction(V1), ufl.TestFunction(V1)\n",
    "V2 = dolfinx.fem.FunctionSpace(mesh2, (\"CG\", 1))\n",
    "u2, v2 = ufl.TrialFunction(V2), ufl.TestFunction(V2)\n",
    "\n",
    "#in an ideal world can just do this\n",
    "a = u1*v1*u2*v2*ufl.dx(domain=mesh1)*ufl.dx(domain=mesh2)"
   ]
  },
  {
   "cell_type": "code",
   "execution_count": null,
   "id": "12b9279e",
   "metadata": {},
   "outputs": [],
   "source": []
  },
  {
   "cell_type": "code",
   "execution_count": 5,
   "id": "7c3732e5",
   "metadata": {},
   "outputs": [],
   "source": [
    "# (Maybe useful in future)\n",
    "# Prepare a marking structures\n",
    "# indices cover all cells \n",
    "# values are [1, 2, 3, 3, ...]\n",
    "cell_map = mesh1.topology.index_map(mesh1.topology.dim)\n",
    "num_cells = cell_map.size_local + cell_map.num_ghosts\n",
    "#indices = numpy.arange(0, num_cells)"
   ]
  },
  {
   "cell_type": "code",
   "execution_count": 6,
   "id": "9753404b",
   "metadata": {},
   "outputs": [],
   "source": [
    "@numba.njit(fastmath=True)\n",
    "def assemble_matrix_cffi(A, mesh, dofmap, num_cells, set_vals, mode):\n",
    "    \"\"\"Assemble P1 mass matrix over a mesh into the PETSc matrix A\"\"\"\n",
    "\n",
    "    # Mesh data\n",
    "    v, x = mesh\n",
    "\n",
    "    # Quadrature points and weights\n",
    "    q = np.array([[0.5, 0.0], [0.5, 0.5], [0.0, 0.5]], dtype=np.double)\n",
    "    weights = np.full(3, 1.0 / 3.0, dtype=np.double)\n",
    "\n",
    "    # Loop over cells\n",
    "    N = np.empty(3, dtype=np.double)\n",
    "    A_local = np.empty((3, 3), dtype=PETSc.ScalarType)\n",
    "    for cell in range(num_cells):\n",
    "        cell_area = area(x[v[cell, 0]], x[v[cell, 1]], x[v[cell, 2]])\n",
    "\n",
    "        # Loop over quadrature points\n",
    "        A_local[:] = 0.0\n",
    "        for j in range(q.shape[0]):\n",
    "            N[0], N[1], N[2] = 1.0 - q[j, 0] - q[j, 1], q[j, 0], q[j, 1]\n",
    "            for row in range(3):\n",
    "                for col in range(3):\n",
    "                    A_local[row, col] += weights[j] * cell_area * N[row] * N[col]\n",
    "\n",
    "        # Add to global tensor\n",
    "        pos = dofmap[cell, :]\n",
    "        set_vals(A, 3, ffi.from_buffer(pos), 3, ffi.from_buffer(pos), ffi.from_buffer(A_local), mode)\n",
    "    sink(A_local, dofmap)"
   ]
  },
  {
   "cell_type": "code",
   "execution_count": null,
   "id": "37b84970",
   "metadata": {},
   "outputs": [],
   "source": []
  }
 ],
 "metadata": {
  "kernelspec": {
   "display_name": "Python 3 (ipykernel)",
   "language": "python",
   "name": "python3"
  },
  "language_info": {
   "codemirror_mode": {
    "name": "ipython",
    "version": 3
   },
   "file_extension": ".py",
   "mimetype": "text/x-python",
   "name": "python",
   "nbconvert_exporter": "python",
   "pygments_lexer": "ipython3",
   "version": "3.10.4"
  }
 },
 "nbformat": 4,
 "nbformat_minor": 5
}
